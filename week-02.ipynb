{
 "cells": [
  {
   "cell_type": "markdown",
   "metadata": {
    "id": "_DUUEXJpvFw-"
   },
   "source": [
    "# Profitable App Profiles for the App Store and Google Play Markets\n",
    "\n",
    "Our aim in this project is to find mobile app profiles that are profitable for the App Store and Google Play markets. We're working as data analysts for a company that builds Android and iOS mobile apps, and our job is to enable our team of developers to make data-driven decisions with respect to the kind of apps they build.\n",
    "\n",
    "At our company, we only build apps that are free to download and install, and our main source of revenue consists of in-app ads. This means that our revenue for any given app is mostly influenced by the number of users that use our app. Our goal for this project is to analyze data to help our developers understand what kinds of apps are likely to attract more users.\n",
    "\n",
    "```\n",
    "```\n",
    "\n"
   ]
  },
  {
   "cell_type": "markdown",
   "metadata": {
    "id": "NYEI-zpPvVqv"
   },
   "source": [
    "**Analyzing Data`**"
   ]
  },
  {
   "cell_type": "code",
   "execution_count": 1,
   "metadata": {
    "id": "kQeD-_lSvc_b"
   },
   "outputs": [],
   "source": [
    "from csv import reader\n",
    "class Data():\n",
    "    def __init__(self, datapath):\n",
    "        opened_file = open(datapath)\n",
    "        read_file = reader(opened_file)\n",
    "        self.dataset = list(read_file)\n",
    "        self.header = self.dataset[0]\n",
    "        self.data = self.dataset[1:]\n",
    "\n",
    "    def explore_data(self, start, end, rows_and_columns=False):\n",
    "        dataset_slice = self.data[start:end]\n",
    "        for row in dataset_slice:\n",
    "            print(row)\n",
    "            print('\\n') \n",
    "\n",
    "        if rows_and_columns:\n",
    "            print('Number of rows:', len(self.data)) \n",
    "            print('Number of columns:', len(self.data[0]))\n",
    "\n",
    "    def delete_wrong_data(self, id):\n",
    "        del self.data[id]\n",
    "\n",
    "    def verify_check_duplicate_entries(self):\n",
    "        duplicate_apps = []\n",
    "        unique_apps = []\n",
    "\n",
    "        for app in self.data:\n",
    "            name = app[0]\n",
    "            if name in unique_apps:\n",
    "                duplicate_apps.append(name)\n",
    "            else:\n",
    "                unique_apps.append(name)\n",
    "            \n",
    "        print('Number of duplicate apps:', len(duplicate_apps))\n",
    "        print('\\n')\n",
    "        print('Examples of duplicate apps:', duplicate_apps[:15])\n",
    "\n",
    "    def build_dictionary(self):\n",
    "        self.reviews_max = {}\n",
    "\n",
    "        for app in self.data:\n",
    "            name = app[0]\n",
    "            n_reviews = float(app[3]) \n",
    "\n",
    "            if name in self.reviews_max and self.reviews_max[name] < n_reviews: \n",
    "                self.reviews_max[name] = n_reviews\n",
    "                \n",
    "            elif name not in self.reviews_max:\n",
    "                self.reviews_max[name] = n_reviews\n",
    "\n",
    "        print('Expected length:', len(self.data) - 1181)\n",
    "        print('Actual length:', len(self.reviews_max))\n",
    "\n",
    "    def delete_duplicate(self):\n",
    "        data_clean = []\n",
    "        already_added = []\n",
    "      \n",
    "        for app in self.data:\n",
    "            name = app[0]\n",
    "            n_reviews = float(app[3])\n",
    "        \n",
    "            if (self.reviews_max[name] == n_reviews) and (name not in already_added):\n",
    "                data_clean.append(app)                                        \n",
    "                already_added.append(name)\n",
    "        self.data = data_clean\n",
    "\n",
    "    def is_english(self, string):\n",
    "        non_ascii = 0\n",
    "        for character in string:\n",
    "            if ord(character) > 127:\n",
    "                non_ascii += 1\n",
    "    \n",
    "        if non_ascii > 3: \n",
    "            return False\n",
    "        else:\n",
    "            return True\n",
    "  \n",
    "    def delete_non_english(self, id):\n",
    "        english_data = []\n",
    "\n",
    "        for app in self.data:\n",
    "            name = app[id]\n",
    "            if self.is_english(name):\n",
    "                english_data.append(app)\n",
    "        self.data = english_data\n",
    "  \n",
    "    def isolating_free(self, formact_price, index):\n",
    "        final_data = []\n",
    "\n",
    "        for app in self.data:\n",
    "            price = app[index]\n",
    "            if price == formact_price:\n",
    "                final_data.append(app)\n",
    "        self.data = final_data\n",
    "        print(len(final_data))\n",
    "\n",
    "    def freq_table(self, id):\n",
    "        table = {}\n",
    "        total = 0\n",
    "    \n",
    "        for row in self.data:\n",
    "            total += 1\n",
    "            value = row[id]\n",
    "            if value in table:\n",
    "                table[value] += 1\n",
    "            else:\n",
    "                table[value] = 1\n",
    "        \n",
    "        table_percentages = {}\n",
    "\n",
    "        for key in table:\n",
    "            percentage = (table[key] / total) * 100\n",
    "            table_percentages[key] = percentage \n",
    "        \n",
    "        return table_percentages\n",
    "  \n",
    "    def display_table(self, id):\n",
    "        table = self.freq_table(id)\n",
    "        table_display = []\n",
    "        for key in table:\n",
    "            key_val_as_tuple = (table[key], key)\n",
    "            table_display.append(key_val_as_tuple)\n",
    "            \n",
    "        table_sorted = sorted(table_display, reverse = True)\n",
    "        for entry in table_sorted:\n",
    "            print(entry[1], ':', entry[0])"
   ]
  },
  {
   "cell_type": "code",
   "execution_count": 2,
   "metadata": {
    "colab": {
     "base_uri": "https://localhost:8080/"
    },
    "id": "TETIzq_y3cUN",
    "outputId": "2ef8d9f5-9b71-4167-e30f-5089ba0e86b0"
   },
   "outputs": [
    {
     "ename": "UnicodeDecodeError",
     "evalue": "'charmap' codec can't decode byte 0x9d in position 8137: character maps to <undefined>",
     "output_type": "error",
     "traceback": [
      "\u001b[1;31m---------------------------------------------------------------------------\u001b[0m",
      "\u001b[1;31mUnicodeDecodeError\u001b[0m                        Traceback (most recent call last)",
      "Input \u001b[1;32mIn [2]\u001b[0m, in \u001b[0;36m<cell line: 1>\u001b[1;34m()\u001b[0m\n\u001b[1;32m----> 1\u001b[0m ios \u001b[38;5;241m=\u001b[39m \u001b[43mData\u001b[49m\u001b[43m(\u001b[49m\u001b[38;5;124;43m'\u001b[39;49m\u001b[38;5;124;43mAppleStore.csv\u001b[39;49m\u001b[38;5;124;43m'\u001b[39;49m\u001b[43m)\u001b[49m\n\u001b[0;32m      2\u001b[0m ios\u001b[38;5;241m.\u001b[39mexplore_data(\u001b[38;5;241m0\u001b[39m, \u001b[38;5;241m3\u001b[39m, \u001b[38;5;28;01mTrue\u001b[39;00m)\n",
      "Input \u001b[1;32mIn [1]\u001b[0m, in \u001b[0;36mData.__init__\u001b[1;34m(self, datapath)\u001b[0m\n\u001b[0;32m      4\u001b[0m opened_file \u001b[38;5;241m=\u001b[39m \u001b[38;5;28mopen\u001b[39m(datapath)\n\u001b[0;32m      5\u001b[0m read_file \u001b[38;5;241m=\u001b[39m reader(opened_file)\n\u001b[1;32m----> 6\u001b[0m \u001b[38;5;28mself\u001b[39m\u001b[38;5;241m.\u001b[39mdataset \u001b[38;5;241m=\u001b[39m \u001b[38;5;28;43mlist\u001b[39;49m\u001b[43m(\u001b[49m\u001b[43mread_file\u001b[49m\u001b[43m)\u001b[49m\n\u001b[0;32m      7\u001b[0m \u001b[38;5;28mself\u001b[39m\u001b[38;5;241m.\u001b[39mheader \u001b[38;5;241m=\u001b[39m \u001b[38;5;28mself\u001b[39m\u001b[38;5;241m.\u001b[39mdataset[\u001b[38;5;241m0\u001b[39m]\n\u001b[0;32m      8\u001b[0m \u001b[38;5;28mself\u001b[39m\u001b[38;5;241m.\u001b[39mdata \u001b[38;5;241m=\u001b[39m \u001b[38;5;28mself\u001b[39m\u001b[38;5;241m.\u001b[39mdataset[\u001b[38;5;241m1\u001b[39m:]\n",
      "File \u001b[1;32mc:\\users\\thiag\\.pyenv\\pyenv-win\\versions\\3.9.5\\lib\\encodings\\cp1252.py:23\u001b[0m, in \u001b[0;36mIncrementalDecoder.decode\u001b[1;34m(self, input, final)\u001b[0m\n\u001b[0;32m     22\u001b[0m \u001b[38;5;28;01mdef\u001b[39;00m \u001b[38;5;21mdecode\u001b[39m(\u001b[38;5;28mself\u001b[39m, \u001b[38;5;28minput\u001b[39m, final\u001b[38;5;241m=\u001b[39m\u001b[38;5;28;01mFalse\u001b[39;00m):\n\u001b[1;32m---> 23\u001b[0m     \u001b[38;5;28;01mreturn\u001b[39;00m \u001b[43mcodecs\u001b[49m\u001b[38;5;241;43m.\u001b[39;49m\u001b[43mcharmap_decode\u001b[49m\u001b[43m(\u001b[49m\u001b[38;5;28;43minput\u001b[39;49m\u001b[43m,\u001b[49m\u001b[38;5;28;43mself\u001b[39;49m\u001b[38;5;241;43m.\u001b[39;49m\u001b[43merrors\u001b[49m\u001b[43m,\u001b[49m\u001b[43mdecoding_table\u001b[49m\u001b[43m)\u001b[49m[\u001b[38;5;241m0\u001b[39m]\n",
      "\u001b[1;31mUnicodeDecodeError\u001b[0m: 'charmap' codec can't decode byte 0x9d in position 8137: character maps to <undefined>"
     ]
    }
   ],
   "source": [
    "ios = Data('AppleStore.csv')\n",
    "ios.explore_data(0, 3, True)"
   ]
  },
  {
   "cell_type": "code",
   "execution_count": null,
   "metadata": {
    "colab": {
     "base_uri": "https://localhost:8080/"
    },
    "id": "SF_L7sM_45iM",
    "outputId": "f7784096-d450-4780-ff04-1122676e70b3"
   },
   "outputs": [],
   "source": [
    "android = Data('googleplaystore.csv')\n",
    "android.explore_data(0, 3, True)"
   ]
  },
  {
   "cell_type": "code",
   "execution_count": null,
   "metadata": {
    "colab": {
     "base_uri": "https://localhost:8080/"
    },
    "id": "9Rd2mI4y5gEF",
    "outputId": "6e917a15-8dc5-4f41-a1a9-fbb552ac768e"
   },
   "outputs": [],
   "source": [
    "android.explore_data(10472, 10473)"
   ]
  },
  {
   "cell_type": "code",
   "execution_count": null,
   "metadata": {
    "id": "Lvf6Ebn25q_J"
   },
   "outputs": [],
   "source": [
    "android.delete_wrong_data(10472)"
   ]
  },
  {
   "cell_type": "code",
   "execution_count": null,
   "metadata": {
    "colab": {
     "base_uri": "https://localhost:8080/"
    },
    "id": "r65qeqDE6T1_",
    "outputId": "a0f1fd12-0a43-4913-bb03-2a079d8b69a5"
   },
   "outputs": [],
   "source": [
    "android.verify_check_duplicate_entries()"
   ]
  },
  {
   "cell_type": "code",
   "execution_count": null,
   "metadata": {
    "colab": {
     "base_uri": "https://localhost:8080/"
    },
    "id": "8mbDBxnA6wxO",
    "outputId": "cb19dc0c-830b-4482-9d36-7872f2672696"
   },
   "outputs": [],
   "source": [
    "android.build_dictionary()"
   ]
  },
  {
   "cell_type": "code",
   "execution_count": 40,
   "metadata": {
    "id": "ul_Af6C661Z2"
   },
   "outputs": [],
   "source": [
    "android.delete_duplicate()"
   ]
  },
  {
   "cell_type": "code",
   "execution_count": 41,
   "metadata": {
    "colab": {
     "base_uri": "https://localhost:8080/"
    },
    "id": "4OsjWX1f7KFS",
    "outputId": "8a5dbe1d-c7f6-4062-aa60-d0c4b390926f"
   },
   "outputs": [
    {
     "name": "stdout",
     "output_type": "stream",
     "text": [
      "['Photo Editor & Candy Camera & Grid & ScrapBook', 'ART_AND_DESIGN', '4.1', '159', '19M', '10,000+', 'Free', '0', 'Everyone', 'Art & Design', 'January 7, 2018', '1.0.0', '4.0.3 and up']\n",
      "\n",
      "\n",
      "['U Launcher Lite – FREE Live Cool Themes, Hide Apps', 'ART_AND_DESIGN', '4.7', '87510', '8.7M', '5,000,000+', 'Free', '0', 'Everyone', 'Art & Design', 'August 1, 2018', '1.2.4', '4.0.3 and up']\n",
      "\n",
      "\n",
      "['Sketch - Draw & Paint', 'ART_AND_DESIGN', '4.5', '215644', '25M', '50,000,000+', 'Free', '0', 'Teen', 'Art & Design', 'June 8, 2018', 'Varies with device', '4.2 and up']\n",
      "\n",
      "\n",
      "Number of rows: 9659\n",
      "Number of columns: 13\n"
     ]
    }
   ],
   "source": [
    "android.explore_data(0, 3, True)"
   ]
  },
  {
   "cell_type": "code",
   "execution_count": 42,
   "metadata": {
    "colab": {
     "base_uri": "https://localhost:8080/"
    },
    "id": "ZE0_oUOV7LV_",
    "outputId": "6a7aeaea-2051-40b0-8791-f874417a2f18"
   },
   "outputs": [
    {
     "name": "stdout",
     "output_type": "stream",
     "text": [
      "True\n",
      "False\n"
     ]
    }
   ],
   "source": [
    "print(android.is_english('Instagram'))\n",
    "print(android.is_english('爱奇艺PPS -《欢乐颂2》电视剧热播'))"
   ]
  },
  {
   "cell_type": "code",
   "execution_count": 46,
   "metadata": {
    "colab": {
     "base_uri": "https://localhost:8080/"
    },
    "id": "SQkvW_Xu8Fs6",
    "outputId": "d3d81f71-694d-47b2-b68f-266ca22d8768"
   },
   "outputs": [
    {
     "name": "stdout",
     "output_type": "stream",
     "text": [
      "True\n",
      "True\n"
     ]
    }
   ],
   "source": [
    "print(android.is_english('Docs To Go™ Free Office Suite'))\n",
    "print(android.is_english('Instachat 😜'))"
   ]
  },
  {
   "cell_type": "code",
   "execution_count": 48,
   "metadata": {
    "id": "2TEt_9d28IrS"
   },
   "outputs": [],
   "source": [
    "android.delete_non_english(0)\n",
    "ios.delete_non_english(1)"
   ]
  },
  {
   "cell_type": "code",
   "execution_count": 50,
   "metadata": {
    "colab": {
     "base_uri": "https://localhost:8080/"
    },
    "id": "RWz-sD2o8Vgf",
    "outputId": "6c961386-afef-42a9-a61e-263bec5b2a20"
   },
   "outputs": [
    {
     "name": "stdout",
     "output_type": "stream",
     "text": [
      "591\n",
      "283\n"
     ]
    }
   ],
   "source": [
    "android.isolating_free('0', 3)\n",
    "ios.isolating_free('0.0', 7)"
   ]
  },
  {
   "cell_type": "code",
   "execution_count": 55,
   "metadata": {
    "colab": {
     "base_uri": "https://localhost:8080/"
    },
    "id": "dP2sJfZ-8nuF",
    "outputId": "b7b33bc3-4314-4533-ddd9-e40d62c80228"
   },
   "outputs": [
    {
     "name": "stdout",
     "output_type": "stream",
     "text": [
      "Games : 39.2226148409894\n",
      "Education : 12.7208480565371\n",
      "Entertainment : 7.06713780918728\n",
      "Photo & Video : 6.713780918727916\n",
      "Utilities : 6.36042402826855\n",
      "Health & Fitness : 4.593639575971731\n",
      "Sports : 2.8268551236749118\n",
      "Social Networking : 2.4734982332155475\n",
      "Book : 2.4734982332155475\n",
      "News : 2.1201413427561837\n",
      "Lifestyle : 1.76678445229682\n",
      "Weather : 1.4134275618374559\n",
      "Travel : 1.4134275618374559\n",
      "Productivity : 1.4134275618374559\n",
      "Music : 1.4134275618374559\n",
      "Finance : 1.4134275618374559\n",
      "Shopping : 1.0600706713780919\n",
      "Reference : 1.0600706713780919\n",
      "Navigation : 0.7067137809187279\n",
      "Medical : 0.7067137809187279\n",
      "Food & Drink : 0.7067137809187279\n",
      "Business : 0.35335689045936397\n"
     ]
    }
   ],
   "source": [
    "ios.display_table(-5)"
   ]
  },
  {
   "cell_type": "code",
   "execution_count": 56,
   "metadata": {
    "colab": {
     "base_uri": "https://localhost:8080/"
    },
    "id": "LY3lWkZM9DJn",
    "outputId": "d4639ae1-8852-4681-9dd2-fc9d1202b429"
   },
   "outputs": [
    {
     "name": "stdout",
     "output_type": "stream",
     "text": [
      "BUSINESS : 13.19796954314721\n",
      "FAMILY : 11.844331641285956\n",
      "MEDICAL : 10.490693739424705\n",
      "TOOLS : 7.2758037225042305\n",
      "PRODUCTIVITY : 6.598984771573605\n",
      "LIFESTYLE : 5.414551607445008\n",
      "PERSONALIZATION : 5.245346869712352\n",
      "COMMUNICATION : 4.906937394247039\n",
      "HEALTH_AND_FITNESS : 4.060913705583756\n",
      "SPORTS : 3.8917089678511\n",
      "BOOKS_AND_REFERENCE : 3.7225042301184432\n",
      "DATING : 3.2148900169204735\n",
      "NEWS_AND_MAGAZINES : 2.707275803722504\n",
      "FINANCE : 2.5380710659898478\n",
      "TRAVEL_AND_LOCAL : 2.3688663282571913\n",
      "SOCIAL : 2.030456852791878\n",
      "GAME : 2.030456852791878\n",
      "FOOD_AND_DRINK : 1.5228426395939088\n",
      "SHOPPING : 1.015228426395939\n",
      "EVENTS : 1.015228426395939\n",
      "PHOTOGRAPHY : 0.8460236886632826\n",
      "HOUSE_AND_HOME : 0.8460236886632826\n",
      "VIDEO_PLAYERS : 0.676818950930626\n",
      "AUTO_AND_VEHICLES : 0.676818950930626\n",
      "WEATHER : 0.5076142131979695\n",
      "MAPS_AND_NAVIGATION : 0.5076142131979695\n",
      "LIBRARIES_AND_DEMO : 0.338409475465313\n",
      "BEAUTY : 0.338409475465313\n",
      "ART_AND_DESIGN : 0.1692047377326565\n"
     ]
    }
   ],
   "source": [
    "android.display_table(1) #Category"
   ]
  },
  {
   "cell_type": "code",
   "execution_count": 57,
   "metadata": {
    "colab": {
     "base_uri": "https://localhost:8080/"
    },
    "id": "8wJavDU69Lny",
    "outputId": "4f1d7a5f-b011-4c39-b0b4-610e8c83b71e"
   },
   "outputs": [
    {
     "name": "stdout",
     "output_type": "stream",
     "text": [
      "Business : 13.19796954314721\n",
      "Medical : 10.490693739424705\n",
      "Tools : 7.2758037225042305\n",
      "Productivity : 6.598984771573605\n",
      "Lifestyle : 5.414551607445008\n",
      "Personalization : 5.245346869712352\n",
      "Education : 5.245346869712352\n",
      "Communication : 4.906937394247039\n",
      "Health & Fitness : 4.060913705583756\n",
      "Entertainment : 4.060913705583756\n",
      "Sports : 3.8917089678511\n",
      "Books & Reference : 3.7225042301184432\n",
      "Dating : 3.2148900169204735\n",
      "News & Magazines : 2.707275803722504\n",
      "Finance : 2.5380710659898478\n",
      "Travel & Local : 2.3688663282571913\n",
      "Social : 2.030456852791878\n",
      "Food & Drink : 1.5228426395939088\n",
      "Shopping : 1.015228426395939\n",
      "Events : 1.015228426395939\n",
      "Photography : 0.8460236886632826\n",
      "House & Home : 0.8460236886632826\n",
      "Arcade : 0.8460236886632826\n",
      "Video Players & Editors : 0.676818950930626\n",
      "Auto & Vehicles : 0.676818950930626\n",
      "Weather : 0.5076142131979695\n",
      "Strategy : 0.5076142131979695\n",
      "Puzzle : 0.5076142131979695\n",
      "Maps & Navigation : 0.5076142131979695\n",
      "Trivia : 0.338409475465313\n",
      "Role Playing : 0.338409475465313\n",
      "Libraries & Demo : 0.338409475465313\n",
      "Casual : 0.338409475465313\n",
      "Beauty : 0.338409475465313\n",
      "Action : 0.338409475465313\n",
      "Simulation : 0.1692047377326565\n",
      "Racing : 0.1692047377326565\n",
      "Educational;Pretend Play : 0.1692047377326565\n",
      "Educational;Education : 0.1692047377326565\n",
      "Educational : 0.1692047377326565\n",
      "Casino : 0.1692047377326565\n",
      "Art & Design : 0.1692047377326565\n",
      "Arcade;Action & Adventure : 0.1692047377326565\n",
      "Adventure : 0.1692047377326565\n"
     ]
    }
   ],
   "source": [
    "android.display_table(-4)"
   ]
  }
 ],
 "metadata": {
  "colab": {
   "provenance": []
  },
  "kernelspec": {
   "display_name": "Python 3 (ipykernel)",
   "language": "python",
   "name": "python3"
  },
  "language_info": {
   "codemirror_mode": {
    "name": "ipython",
    "version": 3
   },
   "file_extension": ".py",
   "mimetype": "text/x-python",
   "name": "python",
   "nbconvert_exporter": "python",
   "pygments_lexer": "ipython3",
   "version": "3.9.5"
  }
 },
 "nbformat": 4,
 "nbformat_minor": 1
}
