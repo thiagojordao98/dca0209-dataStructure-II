{
  "cells": [
    {
      "cell_type": "markdown",
      "metadata": {
        "id": "YGoGFx3lWBbJ"
      },
      "source": [
        "Student Identification\n",
        "\n",
        "- Full Name 01: **put your full name here** "
      ]
    },
    {
      "cell_type": "markdown",
      "metadata": {
        "id": "0vUTEVI2SSAQ"
      },
      "source": [
        "# Exercise Q&A (1,00 point for grade in Unit 02)"
      ]
    },
    {
      "cell_type": "markdown",
      "metadata": {
        "id": "tG_xFopi_wpj"
      },
      "source": [
        "## Question 01"
      ]
    },
    {
      "cell_type": "markdown",
      "metadata": {
        "id": "rtVDKKTDGCND"
      },
      "source": [
        "Consider a network with *N* nodes. Given a single link, what is the maximum number of nodes that link can connect? Given a single node, what is the maximum number of links that can connect to that node?"
      ]
    },
    {
      "attachments": {},
      "cell_type": "markdown",
      "metadata": {
        "id": "3n2EjOMmHMuI"
      },
      "source": [
        "Answer: \n",
        "\n",
        "Com um único enlace, o número máximo de nós que ele pode conectar é 2. Isso ocorre porque um enlace conecta apenas dois nós. Se tentarmos conectar mais de dois nós com um único enlace, isso resultará em um conflito de conexão. Com um único nó, o número máximo de links que podem se conectar a esse nó depende do número total de nós na minha rede. Se a rede tem N nós, o número máximo de links que podem se conectar a um único nó é N-1. Isso ocorre porque cada nó pode se conectar a todos os outros nós da rede, exceto a si mesmo. Portanto, o número total de conexões possíveis para um único nó é igual ao número total de nós na rede menos uma conexão com ele próprio."
      ]
    },
    {
      "cell_type": "markdown",
      "metadata": {
        "id": "uQPRLZUXHRFc"
      },
      "source": [
        "## Question 02"
      ]
    },
    {
      "cell_type": "markdown",
      "metadata": {
        "id": "FnKLHki-Hay_"
      },
      "source": [
        "\n",
        "<center><img width=\"600\" src=\"https://drive.google.com/uc?export=view&id=1Y42-c3Pq1XoszEEvYsZFdr3GccAqp7l_\"></center>\n",
        "<center><b>Figure 1</b>: Map of New York in 1880. From Report on the Social Statistics of Cities, Compiled by George E. Waring, Jr., U.S. Census Office, 1886. Image courtesy of University of Texas Libraries. <br></center>\n",
        "\n",
        "\n",
        "Consider the road map in Figure 1. The grid-like structure of this network means that most nodes have the same degree. What is the most common degree for nodes in this network?\n",
        "\n"
      ]
    },
    {
      "attachments": {},
      "cell_type": "markdown",
      "metadata": {
        "id": "DtBZnm2OHgaI"
      },
      "source": [
        "Answer: \n",
        "\n",
        "Na Figura 1, os nós estão organizados em uma estrutura similar a uma grade, o que significa que cada nó tem quatro conexões possíveis: uma conexão com o nó acima, uma conexão com o nó abaixo, uma conexão com o nó à esquerda e uma conexão com o nó à direita.\n",
        "\n",
        "Como cada nó tem quatro conexões possíveis, o grau de cada nó na rede é quatro. Isso significa que o grau mais comum para os nós nesta rede é 4.\n",
        "\n",
        "Observe que existem dois tipos especiais de nós nessa rede: os nós de canto e os nós de borda. Os nós de canto têm apenas duas conexões possíveis, enquanto os nós de borda têm três conexões possíveis. Portanto, o grau mais comum para a maioria dos nós é 4, mas alguns nós têm graus diferentes."
      ]
    },
    {
      "cell_type": "markdown",
      "metadata": {
        "id": "pyOgImYmJsh3"
      },
      "source": [
        "## Question 03"
      ]
    },
    {
      "cell_type": "markdown",
      "metadata": {
        "id": "17qGjrMHJvZ7"
      },
      "source": [
        "Consider the road map in Figure 1. Manhattan has a lot of one-way streets. This implies that a good network model of traffic flow would probably have directed links. Consider a subgraph of this network with grid-like connectivity and all one-way streets (i.e. each node is a four-way intersection of two one-way streets). What is the most common in-degree of nodes in this subgraph? What is the most common out-degree?"
      ]
    },
    {
      "attachments": {},
      "cell_type": "markdown",
      "metadata": {
        "id": "71j_C-55KIVC"
      },
      "source": [
        "Answer: \n",
        "\n",
        "Na rede descrita, em que cada nó é uma interseção de quatro vias de duas ruas de mão única, podemos assumir que os links são direcionados. Como a rede tem uma conectividade tipo grade, podemos deduzir que cada nó tem duas conexões de entrada e duas conexões de saída.\n",
        "\n",
        "Portanto, no subgrafo desta rede, o grau de entrada mais comum é 2, pois a maioria dos nós terá duas conexões de entrada. Da mesma forma, o grau de saída mais comum também é 2, pois a maioria dos nós terá duas conexões de saída a exceção dos nós de canto e borda."
      ]
    },
    {
      "cell_type": "markdown",
      "metadata": {
        "id": "6ajWuuasKLQ_"
      },
      "source": [
        "## Question 04"
      ]
    },
    {
      "cell_type": "markdown",
      "metadata": {
        "id": "ylQ51DMWKZxC"
      },
      "source": [
        "What network quantity can we use to represent the volume of traffic between each pair of adjacent intersections in the Manhattan road map (Figure 1)?"
      ]
    },
    {
      "attachments": {},
      "cell_type": "markdown",
      "metadata": {
        "id": "oE9sJ1mWKcF0"
      },
      "source": [
        "Answer: \n",
        "\n",
        "Para representar o volume de tráfego entre cada par de interseções adjacentes, poderíamos atribuir um valor numérico a cada elemento da matriz. Esse valor poderia ser uma estimativa do volume de tráfego entre as interseções, como o número médio de veículos por hora ou a capacidade da via em termos de fluxo de veículos.\n",
        "\n",
        "Assim, a quantidade de rede necessária para representar o volume de tráfego entre cada par de interseções adjacentes no mapa rodoviário de Manhattan seria igual ao número de interseções adjacentes, ou seja, o número total de pares de interseções na rede."
      ]
    },
    {
      "cell_type": "markdown",
      "metadata": {
        "id": "udxnPkItKfX3"
      },
      "source": [
        "## Question 5"
      ]
    },
    {
      "cell_type": "markdown",
      "metadata": {
        "id": "fj7f0HL7KtOy"
      },
      "source": [
        "Consider a directed network of N nodes. Now consider the total in-degree (i.e. the sum of the in-degree over all nodes in the network). Compare this to the analogous total out-degree. Which of the following must hold true for any such network?\n",
        "\n",
        "1. Total in-degree must be less than total out-degree\n",
        "2. Total in-degree must be greater than total out-degree\n",
        "3. Total in-degree must be equal to total out-degree\n",
        "4. None of these hold true in all instances"
      ]
    },
    {
      "attachments": {},
      "cell_type": "markdown",
      "metadata": {
        "id": "4P5ThuVNK3Ug"
      },
      "source": [
        "Answer: \n",
        "\n",
        "Opção correta é a 3. Devido à natureza das conexões direcionadas, cada aresta em uma rede direcionada tem uma origem e um destino específicos. Portanto, para cada aresta que aponta para um nó (grau de entrada), há uma aresta que parte desse nó (grau de saída)."
      ]
    },
    {
      "cell_type": "markdown",
      "metadata": {
        "id": "QPVskC76LUtF"
      },
      "source": [
        "## Question 6"
      ]
    },
    {
      "cell_type": "markdown",
      "metadata": {
        "id": "A1TqNt5nLZkU"
      },
      "source": [
        "Consider a Twitter retweet network, where users are nodes and we want to show how many times a given user has retweeted another user. What link type best captures this relation?\n",
        "1.   Undirected, unweighted\n",
        "2.   Undirected, weighted\n",
        "3.   Directed, unweighted\n",
        "4.   Directed, weighted"
      ]
    },
    {
      "attachments": {},
      "cell_type": "markdown",
      "metadata": {
        "id": "yJNqiQJ5LkFy"
      },
      "source": [
        "Answer: \n",
        "\n",
        "Opção 4: link direcionado e ponderado. Nesse contexto, um link direcionado indica a direção do retweet, ou seja, o usuário que fez um retweet de outro usuário. Como estamos interessados em capturar a informação de quantas vezes um usuário fez um retweet de outro, é importante manter a direção do link para diferenciar o usuário que faz o retweet do usuário que foi retweeted."
      ]
    },
    {
      "cell_type": "markdown",
      "metadata": {
        "id": "ZT5mLS7-Lsb2"
      },
      "source": [
        "## Question 7"
      ]
    },
    {
      "cell_type": "markdown",
      "metadata": {
        "id": "ofRy-TURMLix"
      },
      "source": [
        "Consider a hashtag co-occurrence graph from Twitter. In this network, hashtags are the nodes, and a link between two hashtags indicates how often those two hashtags appear in tweets together. What link type would best capture this relation?\n",
        "1.   Undirected, unweighted\n",
        "2.   Undirected, weighted\n",
        "3.   Directed, unweighted\n",
        "4.   Directed, weighted"
      ]
    },
    {
      "attachments": {},
      "cell_type": "markdown",
      "metadata": {
        "id": "8H7AiKavMQsT"
      },
      "source": [
        "Answer: \n",
        "\n",
        "Opção 4: link direcionado e ponderado. Nesse contexto, um link direcionado é adequado para representar a relação entre as hashtags, uma vez que a co-ocorrência de hashtags pode ter uma direção específica. Por exemplo, se uma hashtag A aparece frequentemente junto com a hashtag B, mas a hashtag B não aparece com a hashtag A com a mesma frequência, é importante manter a direção do link para refletir essa assimetria na co-ocorrência."
      ]
    },
    {
      "cell_type": "markdown",
      "metadata": {
        "id": "4-bIhQwpMVs3"
      },
      "source": [
        "## Question 8"
      ]
    },
    {
      "cell_type": "markdown",
      "metadata": {
        "id": "9SVLykJ6M5lM"
      },
      "source": [
        "Consider a network created from characters in a story or play. The nodes are people, and a link exists between two nodes if those characters ever engage in dialogue. Which type of edge could represent this relation? Justify your answer.\n",
        "1.   Undirected, unweighted\n",
        "2.   Undirected, weighted\n",
        "3.   Directed, unweighted\n",
        "4.   Directed, weighted"
      ]
    },
    {
      "attachments": {},
      "cell_type": "markdown",
      "metadata": {
        "id": "FnvkcRD-M8eq"
      },
      "source": [
        "Answer: \n",
        "\n",
        "Opção 1, pois, uma aresta não direcionada se deve ao fato de que, em um diálogo, geralmente há uma interação bidirecional entre os personagens. Ambos os personagens têm a oportunidade de falar e responder um ao outro, criando um fluxo de comunicação mútuo. "
      ]
    },
    {
      "cell_type": "markdown",
      "metadata": {
        "id": "S4Ga_yyYNBBo"
      },
      "source": [
        "## Question 9"
      ]
    },
    {
      "cell_type": "markdown",
      "metadata": {
        "id": "1_z4ApdLNa6a"
      },
      "source": [
        "Suppose we want to make a more complex version of a dialog network that captures how much each character speaks and to whom. What type of link would best represent this relation?\n",
        "1.   Undirected, unweighted\n",
        "2.   Undirected, weighted\n",
        "3.   Directed, unweighted\n",
        "4.   Directed, weighted"
      ]
    },
    {
      "attachments": {},
      "cell_type": "markdown",
      "metadata": {
        "id": "urjFC0KTNefy"
      },
      "source": [
        "Answer: \n",
        "\n",
        "Opção 4, pois, nessa caso um link direcionado é adequado para refletir a natureza assimétrica das interações de diálogo. Cada personagem pode ter uma participação ativa na conversa, falando para outros personagens, mas não necessariamente recebendo a mesma quantidade de diálogo em troca. Portanto, a direção do link é importante para capturar essa assimetria."
      ]
    },
    {
      "cell_type": "markdown",
      "metadata": {
        "id": "hct-5tQwNg5_"
      },
      "source": [
        "## Question 10"
      ]
    },
    {
      "cell_type": "markdown",
      "metadata": {
        "id": "soJKH_N1Nnj3"
      },
      "source": [
        "Imagine that your social network has a subnetwork where you and 24 of your friends (25 people total) are all friends with each other. What is such a subnetwork called? And how many links are contained in the subnetwork?"
      ]
    },
    {
      "attachments": {},
      "cell_type": "markdown",
      "metadata": {
        "id": "e8GcJrj1Npay"
      },
      "source": [
        "Answer: \n",
        "\n",
        "É chamada de uma \"clique\" ou \"clique completa\". Uma clique é um subconjunto de nós em uma rede em que cada par de nós é diretamente conectado por uma aresta. Podemos calcular o número de links pela dessa forma:\n",
        "  Número de arestas = (Número de nós * (Número de nós - 1)) / 2\n",
        "Portanto, há um total de 300 links contidos nela."
      ]
    },
    {
      "cell_type": "markdown",
      "metadata": {
        "id": "--K9oj5YNrjz"
      },
      "source": [
        "## Question 11"
      ]
    },
    {
      "cell_type": "markdown",
      "metadata": {
        "id": "DRFut7ovNz41"
      },
      "source": [
        "Consider an undirected network with N nodes. What is the maximum number of links this network can have?"
      ]
    },
    {
      "attachments": {},
      "cell_type": "markdown",
      "metadata": {
        "id": "60iToMENN61m"
      },
      "source": [
        "Answer: \n",
        "\n",
        "Em uma rede não direcionada com N nós, o número máximo de links que essa rede pode ter é determinado pela quantidade máxima possível de conexões entre os nós."
      ]
    },
    {
      "cell_type": "markdown",
      "metadata": {
        "id": "cER1jb6SN8NF"
      },
      "source": [
        "## Question 12"
      ]
    },
    {
      "cell_type": "markdown",
      "metadata": {
        "id": "PyyEb1GeOBK9"
      },
      "source": [
        "Consider a bipartite network of N nodes, $N_1$ nodes of type 1 and $N_2$ nodes of type 2 (so that $N_1 + N_2 = N$). What is the maximum number of links in this network?"
      ]
    },
    {
      "attachments": {},
      "cell_type": "markdown",
      "metadata": {
        "id": "6AoiES-AOJdB"
      },
      "source": [
        "Answer: \n",
        "\n",
        "Em uma rede bipartida, um link só pode existir entre um nó do tipo 1 e um nó do tipo 2. Cada nó do tipo 1 pode ser conectado a qualquer nó do tipo 2, resultando em N1 * N2 conexões possíveis.\n",
        "\n",
        "Portanto, o número máximo de links nessa rede pode ser calculado como:\n",
        "\n",
        "Número máximo de links = N1 * N2\n",
        "\n",
        "Uma vez que N1 + N2 = N, podemos substituir N2 = N - N1 na equação:\n",
        "\n",
        "Número máximo de links = N1 * (N - N1)"
      ]
    },
    {
      "cell_type": "markdown",
      "metadata": {
        "id": "RN4CfOSqOK_1"
      },
      "source": [
        "## Question 13"
      ]
    },
    {
      "cell_type": "markdown",
      "metadata": {
        "id": "9SGJKgblOO9g"
      },
      "source": [
        "Given a complete network A with N nodes, and a bipartite network B also with N nodes, which of the following holds true for any $N > 2$:\n",
        "1.   Network A has more links than network B\n",
        "2.   Network A has the same number of links as network B\n",
        "3.   Network A has fewer links than network B\n",
        "4.   None of these hold true for all such $N > 2$"
      ]
    },
    {
      "attachments": {},
      "cell_type": "markdown",
      "metadata": {
        "id": "cwF6C1uLOiWr"
      },
      "source": [
        "Answer: \n",
        "\n",
        "A afirmação correta para qualquer N > 2 é a opção 3: A rede A tem menos links do que a rede B.\n",
        "\n",
        "Uma rede completa com N nós possui todos os possíveis links entre os nós, resultando em um número total de links dado por N(N-1)/2. Cada nó está conectado a todos os outros nós na rede completa."
      ]
    },
    {
      "cell_type": "markdown",
      "metadata": {
        "id": "SKKotfslOluz"
      },
      "source": [
        "## Question 14\n",
        "\n"
      ]
    },
    {
      "cell_type": "markdown",
      "metadata": {
        "id": "GMh5WvjiPwzv"
      },
      "source": [
        "Consider this adjacency matrix:\n",
        "\n",
        "<center><img width=\"300\" src=\"https://drive.google.com/uc?export=view&id=1e4ANqX_kJCPhnVizvbK-ToBJgrZJpVde\"></center>\n",
        "\n",
        "An entry in the ith row and jth column indicates the weight of the link from node i to node j. For instance, the entry in the second row and third column is 2, meaning the weight of the link from node B to node C is 2. What kind of network does this matrix represent?\n",
        "1.   Undirected, unweighted\n",
        "2.   Undirected, weighted\n",
        "3.   Directed, unweighted\n",
        "4.   Directed, weighted\n"
      ]
    },
    {
      "attachments": {},
      "cell_type": "markdown",
      "metadata": {
        "id": "UD5mRmSpRelN"
      },
      "source": [
        "Answer:\n",
        "\n",
        "A matriz de adjacência apresentada indica um tipo de rede direcionada e ponderada.\n",
        "\n",
        "Para determinar o tipo de rede representado pela matriz, devemos observar dois aspectos: a presença de valores não nulos fora da diagonal principal e a presença de valores diferentes de 1 como pesos dos links. Nessa matriz, podemos ver que há valores diferentes de zero fora da diagonal principal, o que indica a presença de links direcionados. Além disso, há valores diferentes de 1 como pesos dos links. Isso implica que os links têm pesos distintos, indicando uma rede ponderada.\n",
        "\n",
        "Portanto, a matriz de adjacência representa uma rede direcionada e ponderada. A opção correta é a 4: Direcionado, ponderado.\n"
      ]
    },
    {
      "cell_type": "markdown",
      "metadata": {
        "id": "N92A04bZP6Uu"
      },
      "source": [
        "## Question 15"
      ]
    },
    {
      "cell_type": "markdown",
      "metadata": {
        "id": "MqTaMtfDRKY1"
      },
      "source": [
        "We have seen that Facebook’s network is incredibly sparse. Assume it has approximately 1 billion users, each with 1000 friends on average.\n",
        "\n",
        "1. Suppose Facebook releases its annual report and it shows that while the number of users in the network has stayed the same, the average number of friends per user has increased. Would this imply that the network density increased, decreased, or stayed the same?\n",
        "2. Suppose instead that both the number of users and the average number of friends per user doubled. Would this imply the network density increased, decreased, or stayed the same?\n",
        "\n"
      ]
    },
    {
      "attachments": {},
      "cell_type": "markdown",
      "metadata": {
        "id": "tc14eV8jRXsu"
      },
      "source": [
        "Answer: \n",
        "1. Se o número de usuários na rede do Facebook permanecer o mesmo, mas o número médio de amigos por usuário aumentar, isso implicaria que a densidade da rede aumentou.\n",
        "A densidade de uma rede é uma medida da proporção de conexões existentes em relação ao número total de possíveis conexões.\n",
        "\n",
        "2. Se tanto o número de usuários quanto o número médio de amigos por usuário dobrarem, a densidade da rede permanecerá a mesma. Ao dobrar o número de usuários e o número médio de amigos por usuário, o número total de conexões na rede também dobraria.\n"
      ]
    },
    {
      "cell_type": "markdown",
      "metadata": {
        "id": "hzp00QnjRgxU"
      },
      "source": [
        "## Question 16"
      ]
    },
    {
      "cell_type": "markdown",
      "metadata": {
        "id": "9O0ElA4FR1sR"
      },
      "source": [
        "Netflix keeps data on customer preferences using a big bipartite network connecting users to titles. Suppose that from 2021 to 2022 Netflix’s library has remained the same size, while the number of users has increased. Further suppose that the average user’s degree in this network has remained constant. Has the density of this network increased, decreased, or stayed the same?"
      ]
    },
    {
      "attachments": {},
      "cell_type": "markdown",
      "metadata": {
        "id": "UdewP6VvR6VD"
      },
      "source": [
        "Answer:\n",
        "\n",
        "Se a biblioteca da Netflix permaneceu do mesmo tamanho, mas o número de usuários aumentou e o grau médio do usuário na rede bipartida permaneceu constante, a densidade dessa rede diminuiu.\n",
        "\n",
        "A densidade de uma rede bipartida é determinada pela proporção de links existentes em relação ao número total de possíveis links. Nesse caso, a biblioteca de títulos permaneceu do mesmo tamanho, então o número total de possíveis links entre usuários e títulos permaneceu constante.\n",
        "\n",
        "No entanto, com o aumento do número de usuários, o número total de links efetivos entre usuários e títulos aumentou, o que resulta em uma diminuição na densidade da rede. A densidade diminui porque o número total de links efetivos aumentou em relação ao número total de possíveis links, mas a proporção entre eles é menor.\n"
      ]
    },
    {
      "cell_type": "markdown",
      "metadata": {
        "id": "3xO32cYISYkQ"
      },
      "source": [
        "# Exercise - Hands On (1,00 point for grade in Unit 02)"
      ]
    },
    {
      "cell_type": "markdown",
      "metadata": {
        "id": "-I9SonWrTIH-"
      },
      "source": [
        "Implementing all hands on using [NetworkX](https://networkx.org/)."
      ]
    },
    {
      "cell_type": "markdown",
      "metadata": {
        "id": "7if-CnFwSfPc"
      },
      "source": [
        "## Hands On 01"
      ]
    },
    {
      "cell_type": "markdown",
      "metadata": {
        "id": "SuO9vOYd9gFV"
      },
      "source": [
        "\n",
        "Often in the context of trees, a node with degree 1 is called a *leaf*. Write a function named `get_leaves` that takes a graph as an argument, loops through the nodes, and returns a list of nodes with degree 1."
      ]
    },
    {
      "cell_type": "code",
      "execution_count": 3,
      "metadata": {
        "id": "FlGKqf0MmgnB",
        "scrolled": true
      },
      "outputs": [],
      "source": [
        "def get_leaves(G):\n",
        "    leaves = []\n",
        "    \n",
        "    for node in G:\n",
        "        if len(G[node]) == 1:  # Checking degree of the node\n",
        "            leaves.append(node)\n",
        "    \n",
        "    return leaves\n"
      ]
    },
    {
      "cell_type": "code",
      "execution_count": 4,
      "metadata": {
        "id": "mVBLr5_xmgnB",
        "scrolled": true
      },
      "outputs": [
        {
          "ename": "NameError",
          "evalue": "name 'nx' is not defined",
          "output_type": "error",
          "traceback": [
            "\u001b[1;31m---------------------------------------------------------------------------\u001b[0m",
            "\u001b[1;31mNameError\u001b[0m                                 Traceback (most recent call last)",
            "\u001b[1;32mc:\\www\\dca0209-dataStructure-II\\week08\\exercise.ipynb Cell 56\u001b[0m in \u001b[0;36m<cell line: 2>\u001b[1;34m()\u001b[0m\n\u001b[0;32m      <a href='vscode-notebook-cell:/c%3A/www/dca0209-dataStructure-II/week08/exercise.ipynb#Y106sZmlsZQ%3D%3D?line=0'>1</a>\u001b[0m \u001b[39m# this block of code is only for networkx adapt it for graph-tool\u001b[39;00m\n\u001b[1;32m----> <a href='vscode-notebook-cell:/c%3A/www/dca0209-dataStructure-II/week08/exercise.ipynb#Y106sZmlsZQ%3D%3D?line=1'>2</a>\u001b[0m G \u001b[39m=\u001b[39m nx\u001b[39m.\u001b[39mGraph()\n\u001b[0;32m      <a href='vscode-notebook-cell:/c%3A/www/dca0209-dataStructure-II/week08/exercise.ipynb#Y106sZmlsZQ%3D%3D?line=2'>3</a>\u001b[0m G\u001b[39m.\u001b[39madd_edges_from([\n\u001b[0;32m      <a href='vscode-notebook-cell:/c%3A/www/dca0209-dataStructure-II/week08/exercise.ipynb#Y106sZmlsZQ%3D%3D?line=3'>4</a>\u001b[0m         (\u001b[39m'\u001b[39m\u001b[39ma\u001b[39m\u001b[39m'\u001b[39m, \u001b[39m'\u001b[39m\u001b[39mb\u001b[39m\u001b[39m'\u001b[39m),\n\u001b[0;32m      <a href='vscode-notebook-cell:/c%3A/www/dca0209-dataStructure-II/week08/exercise.ipynb#Y106sZmlsZQ%3D%3D?line=4'>5</a>\u001b[0m         (\u001b[39m'\u001b[39m\u001b[39ma\u001b[39m\u001b[39m'\u001b[39m, \u001b[39m'\u001b[39m\u001b[39md\u001b[39m\u001b[39m'\u001b[39m),\n\u001b[0;32m      <a href='vscode-notebook-cell:/c%3A/www/dca0209-dataStructure-II/week08/exercise.ipynb#Y106sZmlsZQ%3D%3D?line=5'>6</a>\u001b[0m         (\u001b[39m'\u001b[39m\u001b[39mc\u001b[39m\u001b[39m'\u001b[39m, \u001b[39m'\u001b[39m\u001b[39md\u001b[39m\u001b[39m'\u001b[39m),\n\u001b[0;32m      <a href='vscode-notebook-cell:/c%3A/www/dca0209-dataStructure-II/week08/exercise.ipynb#Y106sZmlsZQ%3D%3D?line=6'>7</a>\u001b[0m     ])\n\u001b[0;32m      <a href='vscode-notebook-cell:/c%3A/www/dca0209-dataStructure-II/week08/exercise.ipynb#Y106sZmlsZQ%3D%3D?line=7'>8</a>\u001b[0m \u001b[39massert\u001b[39;00m \u001b[39mset\u001b[39m(get_leaves(G)) \u001b[39m==\u001b[39m {\u001b[39m'\u001b[39m\u001b[39mc\u001b[39m\u001b[39m'\u001b[39m, \u001b[39m'\u001b[39m\u001b[39mb\u001b[39m\u001b[39m'\u001b[39m}\n",
            "\u001b[1;31mNameError\u001b[0m: name 'nx' is not defined"
          ]
        }
      ],
      "source": [
        "# this block of code is only for networkx adapt it for graph-tool\n",
        "G = nx.Graph()\n",
        "G.add_edges_from([\n",
        "        ('a', 'b'),\n",
        "        ('a', 'd'),\n",
        "        ('c', 'd'),\n",
        "    ])\n",
        "assert set(get_leaves(G)) == {'c', 'b'}"
      ]
    },
    {
      "cell_type": "markdown",
      "metadata": {
        "id": "TcYdyCnEmgnD"
      },
      "source": [
        "## Hands On 02"
      ]
    },
    {
      "cell_type": "markdown",
      "metadata": {
        "id": "MsE6DTbI9m4t"
      },
      "source": [
        "\n",
        "Write a function max_degree that takes a graph as its argument, and returns a 2-tuple with the name and degree of the node with highest degree."
      ]
    },
    {
      "cell_type": "code",
      "execution_count": 5,
      "metadata": {
        "id": "DLufczZQmgnD",
        "scrolled": false
      },
      "outputs": [],
      "source": [
        "def max_degree(G):\n",
        "    max_node = None\n",
        "    max_degree = -1\n",
        "\n",
        "    for node in G:\n",
        "        degree = len(G[node])\n",
        "        if degree > max_degree:\n",
        "            max_degree = degree\n",
        "            max_node = node\n",
        "\n",
        "    return (max_node, max_degree)"
      ]
    },
    {
      "cell_type": "code",
      "execution_count": 7,
      "metadata": {
        "id": "RuDfvFb3PmWI"
      },
      "outputs": [
        {
          "ename": "ModuleNotFoundError",
          "evalue": "No module named 'gdown'",
          "output_type": "error",
          "traceback": [
            "\u001b[1;31m---------------------------------------------------------------------------\u001b[0m",
            "\u001b[1;31mModuleNotFoundError\u001b[0m                       Traceback (most recent call last)",
            "\u001b[1;32mc:\\www\\dca0209-dataStructure-II\\week08\\exercise.ipynb Cell 60\u001b[0m in \u001b[0;36m<cell line: 1>\u001b[1;34m()\u001b[0m\n\u001b[1;32m----> <a href='vscode-notebook-cell:/c%3A/www/dca0209-dataStructure-II/week08/exercise.ipynb#Y113sZmlsZQ%3D%3D?line=0'>1</a>\u001b[0m \u001b[39mimport\u001b[39;00m \u001b[39mgdown\u001b[39;00m\n\u001b[0;32m      <a href='vscode-notebook-cell:/c%3A/www/dca0209-dataStructure-II/week08/exercise.ipynb#Y113sZmlsZQ%3D%3D?line=2'>3</a>\u001b[0m url \u001b[39m=\u001b[39m \u001b[39m'\u001b[39m\u001b[39mhttps://drive.google.com/uc?id=14AMuGDPHac7FOOr7Stw2Jh-l-IWb7n8D\u001b[39m\u001b[39m'\u001b[39m\n\u001b[0;32m      <a href='vscode-notebook-cell:/c%3A/www/dca0209-dataStructure-II/week08/exercise.ipynb#Y113sZmlsZQ%3D%3D?line=3'>4</a>\u001b[0m output \u001b[39m=\u001b[39m \u001b[39m'\u001b[39m\u001b[39mfriends.adjlist\u001b[39m\u001b[39m'\u001b[39m\n",
            "\u001b[1;31mModuleNotFoundError\u001b[0m: No module named 'gdown'"
          ]
        }
      ],
      "source": [
        "import gdown\n",
        "\n",
        "url = 'https://drive.google.com/uc?id=14AMuGDPHac7FOOr7Stw2Jh-l-IWb7n8D'\n",
        "output = 'friends.adjlist'\n",
        "gdown.download(url, output, quiet=False)"
      ]
    },
    {
      "cell_type": "code",
      "execution_count": 8,
      "metadata": {
        "id": "aEQapPYNmgnD",
        "scrolled": false
      },
      "outputs": [
        {
          "ename": "NameError",
          "evalue": "name 'nx' is not defined",
          "output_type": "error",
          "traceback": [
            "\u001b[1;31m---------------------------------------------------------------------------\u001b[0m",
            "\u001b[1;31mNameError\u001b[0m                                 Traceback (most recent call last)",
            "\u001b[1;32mc:\\www\\dca0209-dataStructure-II\\week08\\exercise.ipynb Cell 61\u001b[0m in \u001b[0;36m<cell line: 2>\u001b[1;34m()\u001b[0m\n\u001b[0;32m      <a href='vscode-notebook-cell:/c%3A/www/dca0209-dataStructure-II/week08/exercise.ipynb#Y114sZmlsZQ%3D%3D?line=0'>1</a>\u001b[0m \u001b[39m# this block of code is only for networkx adapt it for graph-tool\u001b[39;00m\n\u001b[1;32m----> <a href='vscode-notebook-cell:/c%3A/www/dca0209-dataStructure-II/week08/exercise.ipynb#Y114sZmlsZQ%3D%3D?line=1'>2</a>\u001b[0m SG \u001b[39m=\u001b[39m nx\u001b[39m.\u001b[39mread_adjlist(\u001b[39m'\u001b[39m\u001b[39mfriends.adjlist\u001b[39m\u001b[39m'\u001b[39m)\n\u001b[0;32m      <a href='vscode-notebook-cell:/c%3A/www/dca0209-dataStructure-II/week08/exercise.ipynb#Y114sZmlsZQ%3D%3D?line=2'>3</a>\u001b[0m \u001b[39massert\u001b[39;00m max_degree(SG) \u001b[39m==\u001b[39m (\u001b[39m'\u001b[39m\u001b[39mClaire\u001b[39m\u001b[39m'\u001b[39m, \u001b[39m4\u001b[39m)\n",
            "\u001b[1;31mNameError\u001b[0m: name 'nx' is not defined"
          ]
        }
      ],
      "source": [
        "# this block of code is only for networkx adapt it for graph-tool\n",
        "SG = nx.read_adjlist('friends.adjlist')\n",
        "assert max_degree(SG) == ('Claire', 4)"
      ]
    },
    {
      "cell_type": "markdown",
      "metadata": {
        "id": "MCDbNldnmgnD"
      },
      "source": [
        "## Hands on 03"
      ]
    },
    {
      "cell_type": "markdown",
      "metadata": {
        "id": "RWup3uDm9n5I"
      },
      "source": [
        "\n",
        "Write a function `mutual_friends` that takes a graph and two nodes as arguments, and returns a list (or set) of nodes that are linked to both given nodes. For example, in the graph `SG` drawn above,\n",
        "\n",
        "    mutual_friends(SG, 'Alice', 'Claire') == ['Frank']\n",
        "\n",
        "an empty list or set should be returned in the case where two nodes have no mutual friends, e.g. George and Bob in `SG` drawn above."
      ]
    },
    {
      "cell_type": "code",
      "execution_count": 9,
      "metadata": {
        "id": "hpnX9YeKmgnD",
        "scrolled": false
      },
      "outputs": [],
      "source": [
        "def mutual_friends(G, node_1, node_2):\n",
        "    neighbors1 = set(G[node_1])\n",
        "    neighbors2 = set(G[node_2])\n",
        "\n",
        "    mutual = neighbors1.intersection(neighbors2)\n",
        "\n",
        "    return list(mutual)"
      ]
    },
    {
      "cell_type": "code",
      "execution_count": 10,
      "metadata": {
        "id": "B2n0vCRYmgnE",
        "scrolled": true
      },
      "outputs": [
        {
          "ename": "NameError",
          "evalue": "name 'nx' is not defined",
          "output_type": "error",
          "traceback": [
            "\u001b[1;31m---------------------------------------------------------------------------\u001b[0m",
            "\u001b[1;31mNameError\u001b[0m                                 Traceback (most recent call last)",
            "\u001b[1;32mc:\\www\\dca0209-dataStructure-II\\week08\\exercise.ipynb Cell 65\u001b[0m in \u001b[0;36m<cell line: 2>\u001b[1;34m()\u001b[0m\n\u001b[0;32m      <a href='vscode-notebook-cell:/c%3A/www/dca0209-dataStructure-II/week08/exercise.ipynb#Y121sZmlsZQ%3D%3D?line=0'>1</a>\u001b[0m \u001b[39m# this block of code is only for networkx adapt it for graph-tool\u001b[39;00m\n\u001b[1;32m----> <a href='vscode-notebook-cell:/c%3A/www/dca0209-dataStructure-II/week08/exercise.ipynb#Y121sZmlsZQ%3D%3D?line=1'>2</a>\u001b[0m SG \u001b[39m=\u001b[39m nx\u001b[39m.\u001b[39mread_adjlist(\u001b[39m'\u001b[39m\u001b[39mfriends.adjlist\u001b[39m\u001b[39m'\u001b[39m)\n\u001b[0;32m      <a href='vscode-notebook-cell:/c%3A/www/dca0209-dataStructure-II/week08/exercise.ipynb#Y121sZmlsZQ%3D%3D?line=2'>3</a>\u001b[0m \u001b[39massert\u001b[39;00m mutual_friends(SG, \u001b[39m'\u001b[39m\u001b[39mAlice\u001b[39m\u001b[39m'\u001b[39m, \u001b[39m'\u001b[39m\u001b[39mClaire\u001b[39m\u001b[39m'\u001b[39m) \u001b[39m==\u001b[39m [\u001b[39m'\u001b[39m\u001b[39mFrank\u001b[39m\u001b[39m'\u001b[39m]\n\u001b[0;32m      <a href='vscode-notebook-cell:/c%3A/www/dca0209-dataStructure-II/week08/exercise.ipynb#Y121sZmlsZQ%3D%3D?line=3'>4</a>\u001b[0m \u001b[39massert\u001b[39;00m mutual_friends(SG, \u001b[39m'\u001b[39m\u001b[39mGeorge\u001b[39m\u001b[39m'\u001b[39m, \u001b[39m'\u001b[39m\u001b[39mBob\u001b[39m\u001b[39m'\u001b[39m) \u001b[39m==\u001b[39m []\n",
            "\u001b[1;31mNameError\u001b[0m: name 'nx' is not defined"
          ]
        }
      ],
      "source": [
        "# this block of code is only for networkx adapt it for graph-tool\n",
        "SG = nx.read_adjlist('friends.adjlist')\n",
        "assert mutual_friends(SG, 'Alice', 'Claire') == ['Frank']\n",
        "assert mutual_friends(SG, 'George', 'Bob') == []\n",
        "assert sorted(mutual_friends(SG, 'Claire', 'George')) == ['Dennis', 'Frank']"
      ]
    }
  ],
  "metadata": {
    "colab": {
      "collapsed_sections": [
        "QPVskC76LUtF",
        "ZT5mLS7-Lsb2",
        "4-bIhQwpMVs3",
        "S4Ga_yyYNBBo",
        "hct-5tQwNg5_",
        "--K9oj5YNrjz",
        "cER1jb6SN8NF",
        "RN4CfOSqOK_1",
        "SKKotfslOluz",
        "N92A04bZP6Uu",
        "hzp00QnjRgxU",
        "7if-CnFwSfPc",
        "TcYdyCnEmgnD",
        "MCDbNldnmgnD"
      ],
      "provenance": []
    },
    "kernelspec": {
      "display_name": "Python 3",
      "name": "python3"
    },
    "language_info": {
      "codemirror_mode": {
        "name": "ipython",
        "version": 3
      },
      "file_extension": ".py",
      "mimetype": "text/x-python",
      "name": "python",
      "nbconvert_exporter": "python",
      "pygments_lexer": "ipython3",
      "version": "3.9.5"
    }
  },
  "nbformat": 4,
  "nbformat_minor": 0
}
